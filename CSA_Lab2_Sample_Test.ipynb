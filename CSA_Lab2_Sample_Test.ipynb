{
  "nbformat": 4,
  "nbformat_minor": 0,
  "metadata": {
    "colab": {
      "provenance": []
    },
    "kernelspec": {
      "name": "python3",
      "display_name": "Python 3"
    },
    "language_info": {
      "name": "python"
    }
  },
  "cells": [
    {
      "cell_type": "markdown",
      "source": [
        "#Cyberthreat"
      ],
      "metadata": {
        "id": "pUB-ueco9QXV"
      }
    },
    {
      "cell_type": "markdown",
      "source": [
        "#Import libariries"
      ],
      "metadata": {
        "id": "yHH-6GxlzGAG"
      }
    },
    {
      "cell_type": "code",
      "execution_count": 1,
      "metadata": {
        "id": "kAK9c_LxqnAh"
      },
      "outputs": [],
      "source": [
        "import pandas as pd\n",
        "import numpy as np\n",
        "import matplotlib.pyplot as plt\n",
        "import seaborn as sns\n",
        "from scipy import stats\n",
        "\n",
        "from sklearn.cluster import KMeans, DBSCAN\n",
        "from sklearn.preprocessing import StandardScaler"
      ]
    },
    {
      "cell_type": "markdown",
      "source": [
        "#import dataset"
      ],
      "metadata": {
        "id": "3BgATmiYzJlp"
      }
    },
    {
      "cell_type": "code",
      "source": [
        "data = pd.read_csv('/content/sample_data/cyberthreat.csv')\n",
        "data"
      ],
      "metadata": {
        "id": "Vzzz9ixxris5",
        "outputId": "f2a80c38-7af4-4e72-b46f-ea405091e59e",
        "colab": {
          "base_uri": "https://localhost:8080/",
          "height": 458
        }
      },
      "execution_count": 2,
      "outputs": [
        {
          "output_type": "execute_result",
          "data": {
            "text/plain": [
              "    Protocol Flag Packet  Sender ID  Receiver ID Source IP Address  \\\n",
              "0        TCP  SYN   HTTP     123456       987654       192.168.0.1   \n",
              "1        UDP  ACK    DNS     987654       123456          10.0.0.2   \n",
              "2        TCP  SYN    SSH     789012       345678      192.168.1.10   \n",
              "3        UDP  ACK    NTP     345678       789012          10.0.0.5   \n",
              "4        TCP  RST    FTP     234567       456789       192.168.0.5   \n",
              "..       ...  ...    ...        ...          ...               ...   \n",
              "745      TCP  SYN    FTP     567890       890123       192.168.1.5   \n",
              "746      UDP  ACK    DNS     901234       678901         10.0.0.15   \n",
              "747      TCP  SYN    SSH     234567       456789       192.168.0.5   \n",
              "748      UDP  ACK    NTP     456789       234567          10.0.0.8   \n",
              "749      TCP  RST    FTP     678901       901234      192.168.1.10   \n",
              "\n",
              "    Destination IP Address  Source Port  Destination Port  \\\n",
              "0                 10.0.0.5        12345                80   \n",
              "1              192.168.0.1           53             12345   \n",
              "2                 10.0.0.8           22             12345   \n",
              "3             192.168.1.10          123             12345   \n",
              "4                10.0.0.10           20             12345   \n",
              "..                     ...          ...               ...   \n",
              "745              10.0.0.10           21             12345   \n",
              "746            192.168.0.2        12345                53   \n",
              "747              10.0.0.10           22             12345   \n",
              "748            192.168.0.5          123             12345   \n",
              "749              10.0.0.15           20             12345   \n",
              "\n",
              "     No of Files affected  Packet Size  \n",
              "0                   230.0         1024  \n",
              "1                    12.0          512  \n",
              "2                    17.0          256  \n",
              "3                    23.0          128  \n",
              "4                    19.0         2048  \n",
              "..                    ...          ...  \n",
              "745                   9.0          512  \n",
              "746                   8.0          256  \n",
              "747                   3.0          256  \n",
              "748                   4.0          128  \n",
              "749                   3.0         2048  \n",
              "\n",
              "[750 rows x 11 columns]"
            ],
            "text/html": [
              "\n",
              "  <div id=\"df-83d202cf-c082-4bd5-b023-6cf00458ab9f\" class=\"colab-df-container\">\n",
              "    <div>\n",
              "<style scoped>\n",
              "    .dataframe tbody tr th:only-of-type {\n",
              "        vertical-align: middle;\n",
              "    }\n",
              "\n",
              "    .dataframe tbody tr th {\n",
              "        vertical-align: top;\n",
              "    }\n",
              "\n",
              "    .dataframe thead th {\n",
              "        text-align: right;\n",
              "    }\n",
              "</style>\n",
              "<table border=\"1\" class=\"dataframe\">\n",
              "  <thead>\n",
              "    <tr style=\"text-align: right;\">\n",
              "      <th></th>\n",
              "      <th>Protocol</th>\n",
              "      <th>Flag</th>\n",
              "      <th>Packet</th>\n",
              "      <th>Sender ID</th>\n",
              "      <th>Receiver ID</th>\n",
              "      <th>Source IP Address</th>\n",
              "      <th>Destination IP Address</th>\n",
              "      <th>Source Port</th>\n",
              "      <th>Destination Port</th>\n",
              "      <th>No of Files affected</th>\n",
              "      <th>Packet Size</th>\n",
              "    </tr>\n",
              "  </thead>\n",
              "  <tbody>\n",
              "    <tr>\n",
              "      <th>0</th>\n",
              "      <td>TCP</td>\n",
              "      <td>SYN</td>\n",
              "      <td>HTTP</td>\n",
              "      <td>123456</td>\n",
              "      <td>987654</td>\n",
              "      <td>192.168.0.1</td>\n",
              "      <td>10.0.0.5</td>\n",
              "      <td>12345</td>\n",
              "      <td>80</td>\n",
              "      <td>230.0</td>\n",
              "      <td>1024</td>\n",
              "    </tr>\n",
              "    <tr>\n",
              "      <th>1</th>\n",
              "      <td>UDP</td>\n",
              "      <td>ACK</td>\n",
              "      <td>DNS</td>\n",
              "      <td>987654</td>\n",
              "      <td>123456</td>\n",
              "      <td>10.0.0.2</td>\n",
              "      <td>192.168.0.1</td>\n",
              "      <td>53</td>\n",
              "      <td>12345</td>\n",
              "      <td>12.0</td>\n",
              "      <td>512</td>\n",
              "    </tr>\n",
              "    <tr>\n",
              "      <th>2</th>\n",
              "      <td>TCP</td>\n",
              "      <td>SYN</td>\n",
              "      <td>SSH</td>\n",
              "      <td>789012</td>\n",
              "      <td>345678</td>\n",
              "      <td>192.168.1.10</td>\n",
              "      <td>10.0.0.8</td>\n",
              "      <td>22</td>\n",
              "      <td>12345</td>\n",
              "      <td>17.0</td>\n",
              "      <td>256</td>\n",
              "    </tr>\n",
              "    <tr>\n",
              "      <th>3</th>\n",
              "      <td>UDP</td>\n",
              "      <td>ACK</td>\n",
              "      <td>NTP</td>\n",
              "      <td>345678</td>\n",
              "      <td>789012</td>\n",
              "      <td>10.0.0.5</td>\n",
              "      <td>192.168.1.10</td>\n",
              "      <td>123</td>\n",
              "      <td>12345</td>\n",
              "      <td>23.0</td>\n",
              "      <td>128</td>\n",
              "    </tr>\n",
              "    <tr>\n",
              "      <th>4</th>\n",
              "      <td>TCP</td>\n",
              "      <td>RST</td>\n",
              "      <td>FTP</td>\n",
              "      <td>234567</td>\n",
              "      <td>456789</td>\n",
              "      <td>192.168.0.5</td>\n",
              "      <td>10.0.0.10</td>\n",
              "      <td>20</td>\n",
              "      <td>12345</td>\n",
              "      <td>19.0</td>\n",
              "      <td>2048</td>\n",
              "    </tr>\n",
              "    <tr>\n",
              "      <th>...</th>\n",
              "      <td>...</td>\n",
              "      <td>...</td>\n",
              "      <td>...</td>\n",
              "      <td>...</td>\n",
              "      <td>...</td>\n",
              "      <td>...</td>\n",
              "      <td>...</td>\n",
              "      <td>...</td>\n",
              "      <td>...</td>\n",
              "      <td>...</td>\n",
              "      <td>...</td>\n",
              "    </tr>\n",
              "    <tr>\n",
              "      <th>745</th>\n",
              "      <td>TCP</td>\n",
              "      <td>SYN</td>\n",
              "      <td>FTP</td>\n",
              "      <td>567890</td>\n",
              "      <td>890123</td>\n",
              "      <td>192.168.1.5</td>\n",
              "      <td>10.0.0.10</td>\n",
              "      <td>21</td>\n",
              "      <td>12345</td>\n",
              "      <td>9.0</td>\n",
              "      <td>512</td>\n",
              "    </tr>\n",
              "    <tr>\n",
              "      <th>746</th>\n",
              "      <td>UDP</td>\n",
              "      <td>ACK</td>\n",
              "      <td>DNS</td>\n",
              "      <td>901234</td>\n",
              "      <td>678901</td>\n",
              "      <td>10.0.0.15</td>\n",
              "      <td>192.168.0.2</td>\n",
              "      <td>12345</td>\n",
              "      <td>53</td>\n",
              "      <td>8.0</td>\n",
              "      <td>256</td>\n",
              "    </tr>\n",
              "    <tr>\n",
              "      <th>747</th>\n",
              "      <td>TCP</td>\n",
              "      <td>SYN</td>\n",
              "      <td>SSH</td>\n",
              "      <td>234567</td>\n",
              "      <td>456789</td>\n",
              "      <td>192.168.0.5</td>\n",
              "      <td>10.0.0.10</td>\n",
              "      <td>22</td>\n",
              "      <td>12345</td>\n",
              "      <td>3.0</td>\n",
              "      <td>256</td>\n",
              "    </tr>\n",
              "    <tr>\n",
              "      <th>748</th>\n",
              "      <td>UDP</td>\n",
              "      <td>ACK</td>\n",
              "      <td>NTP</td>\n",
              "      <td>456789</td>\n",
              "      <td>234567</td>\n",
              "      <td>10.0.0.8</td>\n",
              "      <td>192.168.0.5</td>\n",
              "      <td>123</td>\n",
              "      <td>12345</td>\n",
              "      <td>4.0</td>\n",
              "      <td>128</td>\n",
              "    </tr>\n",
              "    <tr>\n",
              "      <th>749</th>\n",
              "      <td>TCP</td>\n",
              "      <td>RST</td>\n",
              "      <td>FTP</td>\n",
              "      <td>678901</td>\n",
              "      <td>901234</td>\n",
              "      <td>192.168.1.10</td>\n",
              "      <td>10.0.0.15</td>\n",
              "      <td>20</td>\n",
              "      <td>12345</td>\n",
              "      <td>3.0</td>\n",
              "      <td>2048</td>\n",
              "    </tr>\n",
              "  </tbody>\n",
              "</table>\n",
              "<p>750 rows × 11 columns</p>\n",
              "</div>\n",
              "    <div class=\"colab-df-buttons\">\n",
              "\n",
              "  <div class=\"colab-df-container\">\n",
              "    <button class=\"colab-df-convert\" onclick=\"convertToInteractive('df-83d202cf-c082-4bd5-b023-6cf00458ab9f')\"\n",
              "            title=\"Convert this dataframe to an interactive table.\"\n",
              "            style=\"display:none;\">\n",
              "\n",
              "  <svg xmlns=\"http://www.w3.org/2000/svg\" height=\"24px\" viewBox=\"0 -960 960 960\">\n",
              "    <path d=\"M120-120v-720h720v720H120Zm60-500h600v-160H180v160Zm220 220h160v-160H400v160Zm0 220h160v-160H400v160ZM180-400h160v-160H180v160Zm440 0h160v-160H620v160ZM180-180h160v-160H180v160Zm440 0h160v-160H620v160Z\"/>\n",
              "  </svg>\n",
              "    </button>\n",
              "\n",
              "  <style>\n",
              "    .colab-df-container {\n",
              "      display:flex;\n",
              "      gap: 12px;\n",
              "    }\n",
              "\n",
              "    .colab-df-convert {\n",
              "      background-color: #E8F0FE;\n",
              "      border: none;\n",
              "      border-radius: 50%;\n",
              "      cursor: pointer;\n",
              "      display: none;\n",
              "      fill: #1967D2;\n",
              "      height: 32px;\n",
              "      padding: 0 0 0 0;\n",
              "      width: 32px;\n",
              "    }\n",
              "\n",
              "    .colab-df-convert:hover {\n",
              "      background-color: #E2EBFA;\n",
              "      box-shadow: 0px 1px 2px rgba(60, 64, 67, 0.3), 0px 1px 3px 1px rgba(60, 64, 67, 0.15);\n",
              "      fill: #174EA6;\n",
              "    }\n",
              "\n",
              "    .colab-df-buttons div {\n",
              "      margin-bottom: 4px;\n",
              "    }\n",
              "\n",
              "    [theme=dark] .colab-df-convert {\n",
              "      background-color: #3B4455;\n",
              "      fill: #D2E3FC;\n",
              "    }\n",
              "\n",
              "    [theme=dark] .colab-df-convert:hover {\n",
              "      background-color: #434B5C;\n",
              "      box-shadow: 0px 1px 3px 1px rgba(0, 0, 0, 0.15);\n",
              "      filter: drop-shadow(0px 1px 2px rgba(0, 0, 0, 0.3));\n",
              "      fill: #FFFFFF;\n",
              "    }\n",
              "  </style>\n",
              "\n",
              "    <script>\n",
              "      const buttonEl =\n",
              "        document.querySelector('#df-83d202cf-c082-4bd5-b023-6cf00458ab9f button.colab-df-convert');\n",
              "      buttonEl.style.display =\n",
              "        google.colab.kernel.accessAllowed ? 'block' : 'none';\n",
              "\n",
              "      async function convertToInteractive(key) {\n",
              "        const element = document.querySelector('#df-83d202cf-c082-4bd5-b023-6cf00458ab9f');\n",
              "        const dataTable =\n",
              "          await google.colab.kernel.invokeFunction('convertToInteractive',\n",
              "                                                    [key], {});\n",
              "        if (!dataTable) return;\n",
              "\n",
              "        const docLinkHtml = 'Like what you see? Visit the ' +\n",
              "          '<a target=\"_blank\" href=https://colab.research.google.com/notebooks/data_table.ipynb>data table notebook</a>'\n",
              "          + ' to learn more about interactive tables.';\n",
              "        element.innerHTML = '';\n",
              "        dataTable['output_type'] = 'display_data';\n",
              "        await google.colab.output.renderOutput(dataTable, element);\n",
              "        const docLink = document.createElement('div');\n",
              "        docLink.innerHTML = docLinkHtml;\n",
              "        element.appendChild(docLink);\n",
              "      }\n",
              "    </script>\n",
              "  </div>\n",
              "\n",
              "\n",
              "<div id=\"df-8e605edc-4f0f-4cb0-8b2c-b294ed81fc77\">\n",
              "  <button class=\"colab-df-quickchart\" onclick=\"quickchart('df-8e605edc-4f0f-4cb0-8b2c-b294ed81fc77')\"\n",
              "            title=\"Suggest charts\"\n",
              "            style=\"display:none;\">\n",
              "\n",
              "<svg xmlns=\"http://www.w3.org/2000/svg\" height=\"24px\"viewBox=\"0 0 24 24\"\n",
              "     width=\"24px\">\n",
              "    <g>\n",
              "        <path d=\"M19 3H5c-1.1 0-2 .9-2 2v14c0 1.1.9 2 2 2h14c1.1 0 2-.9 2-2V5c0-1.1-.9-2-2-2zM9 17H7v-7h2v7zm4 0h-2V7h2v10zm4 0h-2v-4h2v4z\"/>\n",
              "    </g>\n",
              "</svg>\n",
              "  </button>\n",
              "\n",
              "<style>\n",
              "  .colab-df-quickchart {\n",
              "      --bg-color: #E8F0FE;\n",
              "      --fill-color: #1967D2;\n",
              "      --hover-bg-color: #E2EBFA;\n",
              "      --hover-fill-color: #174EA6;\n",
              "      --disabled-fill-color: #AAA;\n",
              "      --disabled-bg-color: #DDD;\n",
              "  }\n",
              "\n",
              "  [theme=dark] .colab-df-quickchart {\n",
              "      --bg-color: #3B4455;\n",
              "      --fill-color: #D2E3FC;\n",
              "      --hover-bg-color: #434B5C;\n",
              "      --hover-fill-color: #FFFFFF;\n",
              "      --disabled-bg-color: #3B4455;\n",
              "      --disabled-fill-color: #666;\n",
              "  }\n",
              "\n",
              "  .colab-df-quickchart {\n",
              "    background-color: var(--bg-color);\n",
              "    border: none;\n",
              "    border-radius: 50%;\n",
              "    cursor: pointer;\n",
              "    display: none;\n",
              "    fill: var(--fill-color);\n",
              "    height: 32px;\n",
              "    padding: 0;\n",
              "    width: 32px;\n",
              "  }\n",
              "\n",
              "  .colab-df-quickchart:hover {\n",
              "    background-color: var(--hover-bg-color);\n",
              "    box-shadow: 0 1px 2px rgba(60, 64, 67, 0.3), 0 1px 3px 1px rgba(60, 64, 67, 0.15);\n",
              "    fill: var(--button-hover-fill-color);\n",
              "  }\n",
              "\n",
              "  .colab-df-quickchart-complete:disabled,\n",
              "  .colab-df-quickchart-complete:disabled:hover {\n",
              "    background-color: var(--disabled-bg-color);\n",
              "    fill: var(--disabled-fill-color);\n",
              "    box-shadow: none;\n",
              "  }\n",
              "\n",
              "  .colab-df-spinner {\n",
              "    border: 2px solid var(--fill-color);\n",
              "    border-color: transparent;\n",
              "    border-bottom-color: var(--fill-color);\n",
              "    animation:\n",
              "      spin 1s steps(1) infinite;\n",
              "  }\n",
              "\n",
              "  @keyframes spin {\n",
              "    0% {\n",
              "      border-color: transparent;\n",
              "      border-bottom-color: var(--fill-color);\n",
              "      border-left-color: var(--fill-color);\n",
              "    }\n",
              "    20% {\n",
              "      border-color: transparent;\n",
              "      border-left-color: var(--fill-color);\n",
              "      border-top-color: var(--fill-color);\n",
              "    }\n",
              "    30% {\n",
              "      border-color: transparent;\n",
              "      border-left-color: var(--fill-color);\n",
              "      border-top-color: var(--fill-color);\n",
              "      border-right-color: var(--fill-color);\n",
              "    }\n",
              "    40% {\n",
              "      border-color: transparent;\n",
              "      border-right-color: var(--fill-color);\n",
              "      border-top-color: var(--fill-color);\n",
              "    }\n",
              "    60% {\n",
              "      border-color: transparent;\n",
              "      border-right-color: var(--fill-color);\n",
              "    }\n",
              "    80% {\n",
              "      border-color: transparent;\n",
              "      border-right-color: var(--fill-color);\n",
              "      border-bottom-color: var(--fill-color);\n",
              "    }\n",
              "    90% {\n",
              "      border-color: transparent;\n",
              "      border-bottom-color: var(--fill-color);\n",
              "    }\n",
              "  }\n",
              "</style>\n",
              "\n",
              "  <script>\n",
              "    async function quickchart(key) {\n",
              "      const quickchartButtonEl =\n",
              "        document.querySelector('#' + key + ' button');\n",
              "      quickchartButtonEl.disabled = true;  // To prevent multiple clicks.\n",
              "      quickchartButtonEl.classList.add('colab-df-spinner');\n",
              "      try {\n",
              "        const charts = await google.colab.kernel.invokeFunction(\n",
              "            'suggestCharts', [key], {});\n",
              "      } catch (error) {\n",
              "        console.error('Error during call to suggestCharts:', error);\n",
              "      }\n",
              "      quickchartButtonEl.classList.remove('colab-df-spinner');\n",
              "      quickchartButtonEl.classList.add('colab-df-quickchart-complete');\n",
              "    }\n",
              "    (() => {\n",
              "      let quickchartButtonEl =\n",
              "        document.querySelector('#df-8e605edc-4f0f-4cb0-8b2c-b294ed81fc77 button');\n",
              "      quickchartButtonEl.style.display =\n",
              "        google.colab.kernel.accessAllowed ? 'block' : 'none';\n",
              "    })();\n",
              "  </script>\n",
              "</div>\n",
              "    </div>\n",
              "  </div>\n"
            ],
            "application/vnd.google.colaboratory.intrinsic+json": {
              "type": "dataframe",
              "variable_name": "data",
              "summary": "{\n  \"name\": \"data\",\n  \"rows\": 750,\n  \"fields\": [\n    {\n      \"column\": \"Protocol\",\n      \"properties\": {\n        \"dtype\": \"category\",\n        \"num_unique_values\": 2,\n        \"samples\": [\n          \"UDP\",\n          \"TCP\"\n        ],\n        \"semantic_type\": \"\",\n        \"description\": \"\"\n      }\n    },\n    {\n      \"column\": \"Flag\",\n      \"properties\": {\n        \"dtype\": \"category\",\n        \"num_unique_values\": 4,\n        \"samples\": [\n          \"ACK\",\n          \"FIN\"\n        ],\n        \"semantic_type\": \"\",\n        \"description\": \"\"\n      }\n    },\n    {\n      \"column\": \"Packet\",\n      \"properties\": {\n        \"dtype\": \"category\",\n        \"num_unique_values\": 9,\n        \"samples\": [\n          \"DHCP\",\n          \"DNS\"\n        ],\n        \"semantic_type\": \"\",\n        \"description\": \"\"\n      }\n    },\n    {\n      \"column\": \"Sender ID\",\n      \"properties\": {\n        \"dtype\": \"number\",\n        \"std\": 286422,\n        \"min\": 123456,\n        \"max\": 987654,\n        \"num_unique_values\": 10,\n        \"samples\": [\n          901234,\n          987654\n        ],\n        \"semantic_type\": \"\",\n        \"description\": \"\"\n      }\n    },\n    {\n      \"column\": \"Receiver ID\",\n      \"properties\": {\n        \"dtype\": \"number\",\n        \"std\": 287956,\n        \"min\": 123456,\n        \"max\": 987654,\n        \"num_unique_values\": 10,\n        \"samples\": [\n          678901,\n          123456\n        ],\n        \"semantic_type\": \"\",\n        \"description\": \"\"\n      }\n    },\n    {\n      \"column\": \"Source IP Address\",\n      \"properties\": {\n        \"dtype\": \"category\",\n        \"num_unique_values\": 10,\n        \"samples\": [\n          \"192.168.0.2\",\n          \"10.0.0.2\"\n        ],\n        \"semantic_type\": \"\",\n        \"description\": \"\"\n      }\n    },\n    {\n      \"column\": \"Destination IP Address\",\n      \"properties\": {\n        \"dtype\": \"category\",\n        \"num_unique_values\": 10,\n        \"samples\": [\n          \"10.0.0.15\",\n          \"192.168.0.1\"\n        ],\n        \"semantic_type\": \"\",\n        \"description\": \"\"\n      }\n    },\n    {\n      \"column\": \"Source Port\",\n      \"properties\": {\n        \"dtype\": \"number\",\n        \"std\": 5282,\n        \"min\": 20,\n        \"max\": 12345,\n        \"num_unique_values\": 10,\n        \"samples\": [\n          25,\n          53\n        ],\n        \"semantic_type\": \"\",\n        \"description\": \"\"\n      }\n    },\n    {\n      \"column\": \"Destination Port\",\n      \"properties\": {\n        \"dtype\": \"number\",\n        \"std\": 5311,\n        \"min\": 20,\n        \"max\": 12345,\n        \"num_unique_values\": 6,\n        \"samples\": [\n          80,\n          12345\n        ],\n        \"semantic_type\": \"\",\n        \"description\": \"\"\n      }\n    },\n    {\n      \"column\": \"No of Files affected\",\n      \"properties\": {\n        \"dtype\": \"number\",\n        \"std\": 38.43339276148625,\n        \"min\": 1.0,\n        \"max\": 1024.0,\n        \"num_unique_values\": 27,\n        \"samples\": [\n          22.0,\n          4.0\n        ],\n        \"semantic_type\": \"\",\n        \"description\": \"\"\n      }\n    },\n    {\n      \"column\": \"Packet Size\",\n      \"properties\": {\n        \"dtype\": \"number\",\n        \"std\": 1154,\n        \"min\": 128,\n        \"max\": 4096,\n        \"num_unique_values\": 7,\n        \"samples\": [\n          1024,\n          512\n        ],\n        \"semantic_type\": \"\",\n        \"description\": \"\"\n      }\n    }\n  ]\n}"
            }
          },
          "metadata": {},
          "execution_count": 2
        }
      ]
    },
    {
      "cell_type": "markdown",
      "source": [
        "#data pre-processing"
      ],
      "metadata": {
        "id": "KH9DxSdDzMTa"
      }
    },
    {
      "cell_type": "code",
      "source": [
        "data.dropna(inplace=True)"
      ],
      "metadata": {
        "id": "3dJJo_pxrsl2"
      },
      "execution_count": 3,
      "outputs": []
    },
    {
      "cell_type": "code",
      "source": [
        "# Find the number of missing values in each column\n",
        "missing_values_count = data.isnull().sum()\n",
        "missing_values_count\n",
        "\n",
        "# For numerical columns, replace missing values with the mean\n",
        "numeric_columns = data.select_dtypes(include=np.number).columns\n",
        "for i in numeric_columns:\n",
        "    data[i] = data[i].fillna(data[i].mean())\n",
        "\n",
        "# For categorical columns, replace missing values with the mode\n",
        "categorical_columns = data.select_dtypes(include='object').columns\n",
        "for i in categorical_columns:\n",
        "    data[i] = data[i].fillna(data[i].mode()[0])"
      ],
      "metadata": {
        "id": "yM82rl8Dr1tl"
      },
      "execution_count": 4,
      "outputs": []
    },
    {
      "cell_type": "code",
      "source": [],
      "metadata": {
        "id": "2zIYm4nqGaRq"
      },
      "execution_count": null,
      "outputs": []
    },
    {
      "cell_type": "markdown",
      "source": [
        "#data visualization"
      ],
      "metadata": {
        "id": "WAUH1F5kzSh4"
      }
    },
    {
      "cell_type": "code",
      "source": [
        "# Heat map for correlation\n",
        "corr = data.corr()\n",
        "sns.heatmap(corr, annot=True)\n",
        "plt.show()\n",
        "\n",
        "# Bar plot of protocol vs. number of files affected\n",
        "sns.barplot(x='Protocol', y='No of Files affected', data=data)\n",
        "plt.title('Number of Files Affected by Protocol')\n",
        "plt.xlabel('Protocol')\n",
        "plt.ylabel('Number of Files Affected')\n",
        "plt.show()"
      ],
      "metadata": {
        "id": "VdAj9yrtx3xa",
        "outputId": "b1f23c9e-d17c-402b-934b-1790b7ca71d4",
        "colab": {
          "base_uri": "https://localhost:8080/",
          "height": 1000
        }
      },
      "execution_count": 5,
      "outputs": [
        {
          "output_type": "stream",
          "name": "stderr",
          "text": [
            "<ipython-input-5-20961fed0bc6>:2: FutureWarning: The default value of numeric_only in DataFrame.corr is deprecated. In a future version, it will default to False. Select only valid columns or specify the value of numeric_only to silence this warning.\n",
            "  corr = data.corr()\n"
          ]
        },
        {
          "output_type": "display_data",
          "data": {
            "text/plain": [
              "<Figure size 640x480 with 2 Axes>"
            ],
            "image/png": "[encoded data removed]"
          },
          "metadata": {}
        },
        {
          "output_type": "display_data",
          "data": {
            "text/plain": [
              "<Figure size 640x480 with 1 Axes>"
            ],
            "image/png": "[encoded data removed]"
          },
          "metadata": {}
        }
      ]
    },
    {
      "cell_type": "markdown",
      "source": [
        "#Box-Plot analysis for Outlier Detection"
      ],
      "metadata": {
        "id": "sknQqFvM1g2K"
      }
    },
    {
      "cell_type": "code",
      "source": [
        "number_of_file_affected = data['No of Files affected']\n",
        "mean = np.mean(number_of_file_affected)\n",
        "median = np.median(number_of_file_affected)\n",
        "quartile = np.percentile(number_of_file_affected, [25,50,75])\n",
        "min_val = np.min(number_of_file_affected)\n",
        "max_val = np.max(number_of_file_affected)\n",
        "\n",
        "Q1 = quartile[0]\n",
        "Q3 = quartile[2]\n",
        "\n",
        "IQR = Q3 - Q1\n",
        "\n",
        "lower_bound = Q1 - 1.5 * IQR\n",
        "upper_bound = Q3 + 1.5 * IQR\n",
        "\n",
        "outliers = number_of_file_affected[(number_of_file_affected < lower_bound)|(number_of_file_affected > upper_bound)]\n",
        "print(outliers)\n",
        "\n",
        "five_point_summary = {\n",
        "    'Min': min_val,\n",
        "    'Q1': quartile[0],\n",
        "    'Median': median,\n",
        "    'Q3': quartile[2],\n",
        "    'Max': max_val\n",
        "}\n",
        "print(\"Five Point Summary for No of Files Affected : \",five_point_summary)\n",
        "sns.boxplot(data=data, orient='h')\n",
        "plt.title(\"Box Plot Analysis\")\n",
        "plt.show()"
      ],
      "metadata": {
        "colab": {
          "base_uri": "https://localhost:8080/",
          "height": 539
        },
        "id": "MUhXvuIK1fMa",
        "outputId": "4ce0290c-0385-48ae-9e5a-c38511355291"
      },
      "execution_count": 8,
      "outputs": [
        {
          "output_type": "stream",
          "name": "stdout",
          "text": [
            "0     230.0\n",
            "8    1024.0\n",
            "Name: No of Files affected, dtype: float64\n",
            "Five Point Summary for No of Files Affected :  {'Min': 1.0, 'Q1': 7.0, 'Median': 12.0, 'Q3': 19.0, 'Max': 1024.0}\n"
          ]
        },
        {
          "output_type": "display_data",
          "data": {
            "text/plain": [
              "<Figure size 640x480 with 1 Axes>"
            ],
            "image/png": "[encoded data removed]"
          },
          "metadata": {}
        }
      ]
    },
    {
      "cell_type": "markdown",
      "source": [
        "#ZSCORE to find outlier"
      ],
      "metadata": {
        "id": "JCfpGo_S32qp"
      }
    },
    {
      "cell_type": "code",
      "source": [
        "# Calculate Z-scores for the 'number of files affected' column\n",
        "number_of_file_affected = data['No of Files affected']\n",
        "z_scores = stats.zscore(number_of_file_affected)\n",
        "threshold = 3\n",
        "# Find outliers\n",
        "outliers = number_of_file_affected[abs(z_scores) > threshold]\n",
        "print(\"Outliers found using Z-score method:\")\n",
        "print(outliers)\n"
      ],
      "metadata": {
        "colab": {
          "base_uri": "https://localhost:8080/"
        },
        "id": "waPF2pFH36ZZ",
        "outputId": "8786279e-45a4-4fc1-eb9d-1fd2d21e3b81"
      },
      "execution_count": 9,
      "outputs": [
        {
          "output_type": "stream",
          "name": "stdout",
          "text": [
            "Outliers found using Z-score method:\n",
            "0     230.0\n",
            "8    1024.0\n",
            "Name: No of Files affected, dtype: float64\n"
          ]
        }
      ]
    },
    {
      "cell_type": "code",
      "source": [
        "# without scipy module\n",
        "\n",
        "mean = number_of_file_affected.mean()\n",
        "std_dev = number_of_file_affected.std()\n",
        "data['Z_score'] = (number_of_file_affected - mean) / std_dev\n",
        "threshold = 3\n",
        "outliers = data[abs(data['Z_score']) > threshold]\n",
        "\n",
        "print(\"Outliers found using Z-score method:\")\n",
        "print(outliers)"
      ],
      "metadata": {
        "colab": {
          "base_uri": "https://localhost:8080/"
        },
        "id": "ZMiZV-we5HAG",
        "outputId": "d37c346d-9d59-4d51-f0ee-8db6105703f6"
      },
      "execution_count": 10,
      "outputs": [
        {
          "output_type": "stream",
          "name": "stdout",
          "text": [
            "Outliers found using Z-score method:\n",
            "  Protocol Flag Packet  Sender ID  Receiver ID Source IP Address  \\\n",
            "0      TCP  SYN   HTTP     123456       987654       192.168.0.1   \n",
            "8      TCP  SYN   SMTP     901234       678901       192.168.0.2   \n",
            "\n",
            "  Destination IP Address  Source Port  Destination Port  No of Files affected  \\\n",
            "0               10.0.0.5        12345                80                 230.0   \n",
            "8              10.0.0.15           25             12345                1024.0   \n",
            "\n",
            "   Packet Size    Z_score  \n",
            "0         1024   5.606044  \n",
            "8          512  26.265162  \n"
          ]
        }
      ]
    },
    {
      "cell_type": "markdown",
      "source": [
        "#2 Clustering Algorithms"
      ],
      "metadata": {
        "id": "i39p1gaI6lZ7"
      }
    },
    {
      "cell_type": "code",
      "source": [
        "# Select relevant features for clustering\n",
        "X = data[['No of Files affected', 'Packet Size']]\n",
        "\n",
        "scaler = StandardScaler()\n",
        "X_scaled = scaler.fit_transform(X)\n",
        "\n",
        "# Define K-means clustering model\n",
        "kmeans = KMeans(n_clusters=3, random_state=42)\n",
        "kmeans.fit(X_scaled)\n",
        "kmeans_labels = kmeans.labels_\n",
        "data['KMeans_Cluster'] = kmeans_labels\n",
        "kmeans_cluster_counts = data['KMeans_Cluster'].value_counts()\n",
        "kmeans_anomalies = data[data['KMeans_Cluster'].isin(kmeans_cluster_counts[kmeans_cluster_counts < 5].index)]\n",
        "\n",
        "print(\"\\nAnomalies detected by K-means:\")\n",
        "print(kmeans_anomalies)\n",
        "\n",
        "# Define DBSCAN clustering model\n",
        "dbscan = DBSCAN(eps=0.5, min_samples=5)\n",
        "dbscan.fit(X_scaled)\n",
        "dbscan_labels = dbscan.labels_\n",
        "data['DBSCAN_Cluster'] = dbscan_labels\n",
        "db_outliers = data[data['DBSCAN_Cluster'] == -1]\n",
        "\n",
        "print(\"Anomalies detected by DBSCAN:\")\n",
        "print(db_outliers)"
      ],
      "metadata": {
        "id": "DLffVFJV6ntI",
        "outputId": "e2da469f-fb40-4e62-93e4-697eed5debd5",
        "colab": {
          "base_uri": "https://localhost:8080/"
        }
      },
      "execution_count": 11,
      "outputs": [
        {
          "output_type": "stream",
          "name": "stderr",
          "text": [
            "/usr/local/lib/python3.10/dist-packages/sklearn/cluster/_kmeans.py:870: FutureWarning: The default value of `n_init` will change from 10 to 'auto' in 1.4. Set the value of `n_init` explicitly to suppress the warning\n",
            "  warnings.warn(\n"
          ]
        },
        {
          "output_type": "stream",
          "name": "stdout",
          "text": [
            "\n",
            "Anomalies detected by K-means:\n",
            "  Protocol Flag Packet  Sender ID  Receiver ID Source IP Address  \\\n",
            "8      TCP  SYN   SMTP     901234       678901       192.168.0.2   \n",
            "\n",
            "  Destination IP Address  Source Port  Destination Port  No of Files affected  \\\n",
            "8              10.0.0.15           25             12345                1024.0   \n",
            "\n",
            "   Packet Size    Z_score  KMeans_Cluster  \n",
            "8          512  26.265162               2  \n",
            "Anomalies detected by DBSCAN:\n",
            "  Protocol Flag Packet  Sender ID  Receiver ID Source IP Address  \\\n",
            "0      TCP  SYN   HTTP     123456       987654       192.168.0.1   \n",
            "8      TCP  SYN   SMTP     901234       678901       192.168.0.2   \n",
            "\n",
            "  Destination IP Address  Source Port  Destination Port  No of Files affected  \\\n",
            "0               10.0.0.5        12345                80                 230.0   \n",
            "8              10.0.0.15           25             12345                1024.0   \n",
            "\n",
            "   Packet Size    Z_score  KMeans_Cluster  DBSCAN_Cluster  \n",
            "0         1024   5.606044               1              -1  \n",
            "8          512  26.265162               2              -1  \n"
          ]
        }
      ]
    },
    {
      "cell_type": "markdown",
      "source": [
        "#Grocery dataset"
      ],
      "metadata": {
        "id": "or2Z2za_9VwS"
      }
    },
    {
      "cell_type": "markdown",
      "source": [
        "#Import libararies"
      ],
      "metadata": {
        "id": "T9VQMOyX-EO_"
      }
    },
    {
      "cell_type": "code",
      "source": [
        "import pandas as pd\n",
        "from mlxtend.preprocessing import TransactionEncoder\n",
        "from mlxtend.frequent_patterns import apriori, association_rules"
      ],
      "metadata": {
        "id": "LgOsqvWp-GJl"
      },
      "execution_count": 12,
      "outputs": []
    },
    {
      "cell_type": "markdown",
      "source": [
        "#import dataset"
      ],
      "metadata": {
        "id": "0QqQcpz49ZJN"
      }
    },
    {
      "cell_type": "code",
      "source": [
        "data = pd.read_csv('/content/sample_data/Groceries_dataset.csv')"
      ],
      "metadata": {
        "id": "i9lFHIEd-g6i",
        "outputId": "d0bda15a-594e-486f-e7a6-f5020003c549",
        "colab": {
          "base_uri": "https://localhost:8080/"
        }
      },
      "execution_count": 13,
      "outputs": [
        {
          "output_type": "stream",
          "name": "stderr",
          "text": [
            "/usr/local/lib/python3.10/dist-packages/ipykernel/ipkernel.py:283: DeprecationWarning: `should_run_async` will not call `transform_cell` automatically in the future. Please pass the result to `transformed_cell` argument and any exception that happen during thetransform in `preprocessing_exc_tuple` in IPython 7.17 and above.\n",
            "  and should_run_async(code)\n"
          ]
        }
      ]
    },
    {
      "cell_type": "markdown",
      "source": [
        "#data preprocessing and list of transactions"
      ],
      "metadata": {
        "id": "FnfF3emt_bL9"
      }
    },
    {
      "cell_type": "code",
      "source": [
        "#Convert 'Date' column to datetime format\n",
        "Date = pd.to_datetime(data['Date'])\n",
        "\n",
        "data.drop_duplicates(inplace=True)\n",
        "\n",
        "# Create a list of transactions\n",
        "transactions_list = data.groupby(['Member_number', 'Date'])['itemDescription'].apply(list).values.tolist()\n",
        "transactions_list"
      ],
      "metadata": {
        "id": "HHxo6OeE_Xnv"
      },
      "execution_count": null,
      "outputs": []
    },
    {
      "cell_type": "markdown",
      "source": [
        "#Apriori"
      ],
      "metadata": {
        "id": "2i8M6PWHARJu"
      }
    },
    {
      "cell_type": "code",
      "source": [
        "# Convert the DataFrame to a transaction format suitable for Apriori\n",
        "basket = (data.groupby(['Member_number', 'Date'])['itemDescription']\n",
        "          .apply(list).tolist())\n",
        "\n",
        "encoder = TransactionEncoder()\n",
        "basket_encoded = encoder.fit_transform(basket)\n",
        "\n",
        "basket_data = pd.DataFrame(basket_encoded, columns=encoder.columns_)\n",
        "\n",
        "# Apply Apriori algorithm to find frequent itemsets\n",
        "frequent_itemsets = apriori(basket_data, min_support=0.01, use_colnames=True)\n",
        "print(\"\\nFrequent Itemsets:\")\n",
        "print(frequent_itemsets)\n",
        "\n",
        "rules = association_rules(frequent_itemsets, metric=\"lift\", min_threshold=1)\n",
        "print(\"\\nAssociation Rules:\")\n",
        "print(rules)"
      ],
      "metadata": {
        "id": "r-MdhlT1_ZX4",
        "outputId": "bd0f5dc5-6999-4b5f-87c9-c9a35c62aed7",
        "colab": {
          "base_uri": "https://localhost:8080/"
        }
      },
      "execution_count": 15,
      "outputs": [
        {
          "output_type": "stream",
          "name": "stderr",
          "text": [
            "/usr/local/lib/python3.10/dist-packages/ipykernel/ipkernel.py:283: DeprecationWarning: `should_run_async` will not call `transform_cell` automatically in the future. Please pass the result to `transformed_cell` argument and any exception that happen during thetransform in `preprocessing_exc_tuple` in IPython 7.17 and above.\n",
            "  and should_run_async(code)\n"
          ]
        },
        {
          "output_type": "stream",
          "name": "stdout",
          "text": [
            "\n",
            "Frequent Itemsets:\n",
            "     support                        itemsets\n",
            "0   0.021386                      (UHT-milk)\n",
            "1   0.033950                          (beef)\n",
            "2   0.021787                       (berries)\n",
            "3   0.016574                     (beverages)\n",
            "4   0.045312                  (bottled beer)\n",
            "..       ...                             ...\n",
            "64  0.010559  (other vegetables, rolls/buns)\n",
            "65  0.014837  (whole milk, other vegetables)\n",
            "66  0.013968        (whole milk, rolls/buns)\n",
            "67  0.011629              (whole milk, soda)\n",
            "68  0.011161            (whole milk, yogurt)\n",
            "\n",
            "[69 rows x 2 columns]\n",
            "\n",
            "Association Rules:\n",
            "Empty DataFrame\n",
            "Columns: [antecedents, consequents, antecedent support, consequent support, support, confidence, lift, leverage, conviction, zhangs_metric]\n",
            "Index: []\n"
          ]
        }
      ]
    }
  ]
}